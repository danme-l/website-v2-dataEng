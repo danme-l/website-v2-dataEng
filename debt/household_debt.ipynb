{
 "cells": [
  {
   "attachments": {},
   "cell_type": "markdown",
   "metadata": {},
   "source": [
    "## Fetching Data from FRED\n",
    "* [FRED Website](https://fred.stlouisfed.org/)\n",
    "* [API endpoint that I'm using](https://github.com/7astro7/full_fred)"
   ]
  },
  {
   "cell_type": "code",
   "execution_count": 19,
   "metadata": {},
   "outputs": [],
   "source": [
    "from full_fred.fred_base import FredBase\n",
    "from full_fred.fred import Fred\n",
    "fredB = FredBase()\n",
    "fred = Fred('../fred_api_key.txt')"
   ]
  },
  {
   "cell_type": "code",
   "execution_count": 20,
   "metadata": {},
   "outputs": [],
   "source": [
    "import pandas as pd\n",
    "import numpy as np"
   ]
  },
  {
   "cell_type": "code",
   "execution_count": 17,
   "metadata": {},
   "outputs": [],
   "source": [
    "from dotenv import dotenv_values\n",
    "env_vars = dict(dotenv_values(\"../.env\"))"
   ]
  },
  {
   "cell_type": "code",
   "execution_count": 25,
   "metadata": {},
   "outputs": [
    {
     "data": {
      "text/plain": [
       "True"
      ]
     },
     "execution_count": 25,
     "metadata": {},
     "output_type": "execute_result"
    }
   ],
   "source": [
    "fred.set_api_key_file('../fred_api_key.txt')"
   ]
  },
  {
   "cell_type": "code",
   "execution_count": 11,
   "metadata": {},
   "outputs": [],
   "source": [
    "FRED_API_KEY = env_vars['FRED_API_KEY']"
   ]
  },
  {
   "attachments": {},
   "cell_type": "markdown",
   "metadata": {},
   "source": [
    "## Household Debt to GDP for...\n",
    "* [The United States](https://fred.stlouisfed.org/series/HDTGPDUSQ163N)\n",
    "* [Canada](https://fred.stlouisfed.org/series/HDTGPDUSQ163N)\n",
    "* [South Korea](https://fred.stlouisfed.org/series/HDTGPDCAQ163N)\n",
    "* [The United Kingdom](https://fred.stlouisfed.org/series/HDTGPDKRQ163N)\n",
    "* [Australia](https://fred.stlouisfed.org/series/HDTGPDAUQ163N)\n",
    "* [Germany](https://fred.stlouisfed.org/series/HDTGPDDEQ163N)\n",
    "* [France](https://fred.stlouisfed.org/series/HDTGPDFRA163N)\n",
    "* [Spain](https://fred.stlouisfed.org/series/HDTGPDESA163N)\n",
    "* [South Africa](https://fred.stlouisfed.org/series/HDTGPDZAQ163N)\n",
    "* [Poland](https://fred.stlouisfed.org/series/HDTGPDPLQ163N)\n",
    "\n",
    "AKA, the countries for which data was available from the FRED API"
   ]
  },
  {
   "cell_type": "code",
   "execution_count": 28,
   "metadata": {},
   "outputs": [],
   "source": [
    "country_code_dict = {\n",
    "    \"The United States\":\"HDTGPDUSQ163N\",\n",
    "    \"Canada\":\"HDTGPDCAQ163N\",\n",
    "    \"South Korea\":\"HDTGPDKRQ163N\",\n",
    "    \"The United Kingdom\":\"HDTGPDGBQ163N\",\n",
    "    \"Australia\":\"HDTGPDAUQ163N\",\n",
    "    \"Germany\":\"HDTGPDDEQ163N\",\n",
    "    \"France\":\"HDTGPDFRA163N\",\n",
    "    \"Spain\":\"HDTGPDESA163N\",\n",
    "    \"South Africa\":\"HDTGPDZAQ163N\",\n",
    "    \"Poland\":\"HDTGPDPLQ163N\"\n",
    "}"
   ]
  },
  {
   "cell_type": "code",
   "execution_count": 71,
   "metadata": {},
   "outputs": [],
   "source": [
    "def get_hh_debt_ratios(code_dict):\n",
    "    # initiate df\n",
    "    df = pd.DataFrame(columns=['date', 'value', 'country'])\n",
    "\n",
    "    # iterate through the code dict\n",
    "    for country, code in code_dict.items():\n",
    "        # drop useless columnms\n",
    "        cur_df = fred.get_series_df(code).drop(['realtime_start', 'realtime_end'], axis=1)\n",
    "        # set the country column\n",
    "        cur_df['country'] = country\n",
    "\n",
    "        df = pd.concat([df, cur_df])\n",
    "    \n",
    "    df = df.sort_values(by='date') \n",
    "    df = df.replace('.', 0)\n",
    "    df = df.reset_index(drop=True)\n",
    "    \n",
    "    return df"
   ]
  },
  {
   "cell_type": "code",
   "execution_count": 72,
   "metadata": {},
   "outputs": [],
   "source": [
    "debt_df = get_hh_debt_ratios(country_code_dict)"
   ]
  },
  {
   "cell_type": "code",
   "execution_count": 69,
   "metadata": {},
   "outputs": [
    {
     "data": {
      "text/plain": [
       "index                       2\n",
       "date               2009-04-01\n",
       "value        98.9984073160707\n",
       "country    The United Kingdom\n",
       "Name: 99, dtype: object"
      ]
     },
     "execution_count": 69,
     "metadata": {},
     "output_type": "execute_result"
    }
   ],
   "source": [
    "debt_df.loc[99]"
   ]
  },
  {
   "cell_type": "code",
   "execution_count": 74,
   "metadata": {},
   "outputs": [],
   "source": [
    "debt_df.to_csv('csv_files/household_debt.csv', index=True)"
   ]
  },
  {
   "cell_type": "code",
   "execution_count": null,
   "metadata": {},
   "outputs": [],
   "source": []
  }
 ],
 "metadata": {
  "kernelspec": {
   "display_name": "base",
   "language": "python",
   "name": "python3"
  },
  "language_info": {
   "codemirror_mode": {
    "name": "ipython",
    "version": 3
   },
   "file_extension": ".py",
   "mimetype": "text/x-python",
   "name": "python",
   "nbconvert_exporter": "python",
   "pygments_lexer": "ipython3",
   "version": "3.9.7"
  },
  "orig_nbformat": 4,
  "vscode": {
   "interpreter": {
    "hash": "d3eb5d775dee5254f970180c9f678560958e6db1a6f22d3a463bb3fdc195070f"
   }
  }
 },
 "nbformat": 4,
 "nbformat_minor": 2
}
